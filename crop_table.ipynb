{
 "cells": [
  {
   "cell_type": "code",
   "execution_count": 1,
   "metadata": {},
   "outputs": [],
   "source": [
    "import cv2\n",
    "import numpy as np\n",
    "import glob\n",
    "import os\n",
    "import matplotlib.pyplot as plt\n",
    "from pprint import pprint"
   ]
  },
  {
   "cell_type": "code",
   "execution_count": 2,
   "metadata": {},
   "outputs": [],
   "source": [
    "def get_all_image_input(directory):\n",
    "    list_image = glob.glob(directory + \"*.jpg\")\n",
    "    list_image.extend(glob.glob(directory + \"*.png\"))\n",
    "    list_image.extend(glob.glob(directory + \"*.jpeg\"))\n",
    "    list_image.extend(glob.glob(directory + \"*.PNG\"))\n",
    "    return list_image"
   ]
  },
  {
   "cell_type": "code",
   "execution_count": 3,
   "metadata": {},
   "outputs": [],
   "source": [
    "def show_image(img):\n",
    "    image=cv2.imread(img)\n",
    "    plt.imshow(image)\n",
    "    plt.title(\"Image\")\n",
    "    plt.show()"
   ]
  },
  {
   "cell_type": "code",
   "execution_count": 4,
   "metadata": {},
   "outputs": [],
   "source": [
    "def find_table_box(list_boxes, img_height):\n",
    "    x_es=[]\n",
    "    for box in list_boxes:\n",
    "        x_es.append(box[0])\n",
    "    \n",
    "    results=[]\n",
    "    min_height=0\n",
    "    while(len(x_es) != 0):\n",
    "        min_x = min(x_es)\n",
    "        x_es.remove(min_x)\n",
    "        min_y = img_height\n",
    "        \n",
    "        res = []\n",
    "        for box in list_boxes:\n",
    "            if min_x in box and box[1] < min_y and (box[1] + box[3]) > min_height:\n",
    "                res = box\n",
    "                min_y = box[1]\n",
    "                min_height = (box[1] + box[3])\n",
    "                \n",
    "        for box in list_boxes:\n",
    "            if box == res:\n",
    "                results.append(res)\n",
    "                list_boxes.remove(box)\n",
    "    return results"
   ]
  },
  {
   "cell_type": "code",
   "execution_count": 19,
   "metadata": {},
   "outputs": [],
   "source": [
    "def get_contours(img_bin, filename):\n",
    "    # Các đường kẻ ngang + dọc\n",
    "    kernel_length = np.array(img_bin).shape[1] // 10\n",
    "\n",
    "    ver_kernel = cv2.getStructuringElement(cv2.MORPH_RECT, (1, kernel_length))\n",
    "    img_temp1 = cv2.erode(img_bin, ver_kernel, iterations = 3)\n",
    "    vertical_lines_img = cv2.dilate(img_temp1, ver_kernel, iterations=3)\n",
    "    cv2.imwrite(\"./output/\"+filename+\"/vertical_lines_img.png\", vertical_lines_img)\n",
    "\n",
    "    hori_kernel = cv2.getStructuringElement(cv2.MORPH_RECT, (kernel_length, 1))\n",
    "    img_temp2 = cv2.erode(img_bin, hori_kernel, iterations=3)\n",
    "    horizontal_lines_img = cv2.dilate(img_temp2, hori_kernel, iterations=3)\n",
    "    cv2.imwrite(\"./output/\"+filename+\"/horizontal_lines_img.png\", horizontal_lines_img)\n",
    "\n",
    "\n",
    "    # matrix 3x3\n",
    "    kernel = cv2.getStructuringElement(cv2.MORPH_RECT, (5, 5))\n",
    "\n",
    "    # img_final_bin = vertical_lines_img + horizontal_lines_img\n",
    "    img_final_bin = cv2.addWeighted(vertical_lines_img, 0.5, horizontal_lines_img, 0.5, 0.0)\n",
    "    img_final_bin = 255 - img_final_bin\n",
    "    img_final_bin = cv2.erode(img_final_bin, kernel, iterations=2)\n",
    "    cv2.imwrite(\"./output/Hinh/img_final_bin.png\", img_final_bin)\n",
    "\n",
    "    (thresh, img_final) = cv2.threshold(img_final_bin, 128, 255, cv2.THRESH_BINARY | cv2.THRESH_OTSU)\n",
    "\n",
    "    # Tìm các contour của ảnh\n",
    "    im, contours, hierarchy = cv2.findContours(img_final, cv2.RETR_TREE, cv2.CHAIN_APPROX_SIMPLE)\n",
    "    return (contours, img_final)"
   ]
  },
  {
   "cell_type": "code",
   "execution_count": 29,
   "metadata": {},
   "outputs": [],
   "source": [
    "def main(list_image):\n",
    "    for image in list_image:\n",
    "        print(\"\\nProcessing\", image, \"---------\")\n",
    "        \n",
    "        # Tạo thư mục output\n",
    "        basename = os.path.basename(image)\n",
    "        filename = os.path.splitext(basename)[0]\n",
    "        dir = './output/' + filename\n",
    "        if not os.path.exists(dir):\n",
    "            os.mkdir(dir)\n",
    "            \n",
    "        img = cv2.imread(image, cv2.IMREAD_GRAYSCALE)\n",
    "        height, width = img.shape[:2]\n",
    "        \n",
    "        (thresh, img_bin) = cv2.threshold(img, 200, 255, cv2.THRESH_BINARY)\n",
    "        \n",
    "        img_bin = 255 - img_bin\n",
    "        \n",
    "        (contours, img_final) = get_contours(img_bin, filename)\n",
    "        \n",
    "        contours.reverse()\n",
    "        boxes=[]\n",
    "        for contour in contours:\n",
    "            x, y, w, h = cv2.boundingRect(contour)\n",
    "            if x != 0 and y !=0 and w != width and h != height:\n",
    "                cv2.rectangle(img_final, (x, y), (x + w, y + h), (0, 0, 0), 1)\n",
    "                boxes.append([x,y,w,h])\n",
    "        \n",
    "        cv2.imwrite(\"./output/\"+filename+\"/img_final.png\", img_final)\n",
    "            \n",
    "        # ----------------\n",
    "        table = find_table_box(boxes, height)\n",
    "        for t in table:\n",
    "            x,y,w,h = t[:]\n",
    "            img_table = img[y:y+h, x:x+w]\n",
    "            \n",
    "            cv2.imwrite(\"./output/\"+filename+\"/_img\"+str(table.index(t))+\".png\", img_table)\n",
    "            print(\"\\tSaved\", filename + \"/_img\"+str(table.index(t))+\".png\", end=\"\")\n",
    "            pprint(img_table.shape[:])"
   ]
  },
  {
   "cell_type": "code",
   "execution_count": 30,
   "metadata": {},
   "outputs": [
    {
     "name": "stdout",
     "output_type": "stream",
     "text": [
      "['./input/table.png', './input/Hinh.png', './input/1.png', './input/3.PNG', './input/4.PNG', './input/2.PNG']\n"
     ]
    }
   ],
   "source": [
    "input = get_all_image_input('./input/')\n",
    "print(input)"
   ]
  },
  {
   "cell_type": "code",
   "execution_count": 31,
   "metadata": {
    "scrolled": false
   },
   "outputs": [
    {
     "name": "stdout",
     "output_type": "stream",
     "text": [
      "\n",
      "Processing ./input/table.png ---------\n",
      "\tSaved table/_img0.png(243, 738)\n",
      "\tSaved table/_img1.png(243, 738)\n",
      "\n",
      "Processing ./input/Hinh.png ---------\n",
      "\tSaved Hinh/_img0.png(312, 276)\n",
      "\n",
      "Processing ./input/1.png ---------\n",
      "\tSaved 1/_img0.png(248, 222)\n",
      "\n",
      "Processing ./input/3.PNG ---------\n",
      "\tSaved 3/_img0.png(446, 558)\n",
      "\n",
      "Processing ./input/4.PNG ---------\n",
      "\tSaved 4/_img0.png(13, 325)\n",
      "\tSaved 4/_img1.png(13, 325)\n",
      "\n",
      "Processing ./input/2.PNG ---------\n",
      "\tSaved 2/_img0.png(12, 326)\n"
     ]
    }
   ],
   "source": [
    "main(input)"
   ]
  },
  {
   "cell_type": "code",
   "execution_count": 349,
   "metadata": {},
   "outputs": [],
   "source": [
    "#             (thresh, img_bin) = cv2.threshold(img_table, 200, 255, cv2.THRESH_BINARY)\n",
    "#             img_bin = 255 - img_bin\n",
    "        \n",
    "#             (_im, _contours, _hierarchy, _img) = get_contours(img_bin)\n",
    "# #             contours.reverse()\n",
    "#             _height, _width = _img.shape[:2]\n",
    "#             for contour in _contours:\n",
    "#                 x, y, w, h = cv2.boundingRect(contour)\n",
    "#                 if w > h and (w/_width)<0.6 and (h/_height)<0.6:\n",
    "#                     cv2.rectangle(_img, (x, y), (x + w, y + h), (0, 0, 0), 2)\n",
    "            \n",
    "#             print(\"Locate:\",x, y, x+w, y+h)"
   ]
  },
  {
   "cell_type": "code",
   "execution_count": null,
   "metadata": {},
   "outputs": [],
   "source": []
  }
 ],
 "metadata": {
  "kernelspec": {
   "display_name": "Python 3",
   "language": "python",
   "name": "python3"
  },
  "language_info": {
   "codemirror_mode": {
    "name": "ipython",
    "version": 3
   },
   "file_extension": ".py",
   "mimetype": "text/x-python",
   "name": "python",
   "nbconvert_exporter": "python",
   "pygments_lexer": "ipython3",
   "version": "3.5.2"
  }
 },
 "nbformat": 4,
 "nbformat_minor": 2
}
